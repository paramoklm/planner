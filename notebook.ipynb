{
 "cells": [
  {
   "cell_type": "markdown",
   "id": "28270397",
   "metadata": {},
   "source": [
    "## Import"
   ]
  },
  {
   "cell_type": "code",
   "execution_count": 278,
   "id": "7407da9c",
   "metadata": {},
   "outputs": [],
   "source": [
    "import os\n",
    "import yaml\n",
    "import warnings\n",
    "from typing import List\n",
    "\n",
    "from utils import get_openai_api_key\n",
    "\n",
    "from crewai import Agent, Task, Crew\n",
    "from pydantic import BaseModel, Field\n",
    "from crewai.tools import BaseTool\n",
    "\n",
    "\n",
    "warnings.filterwarnings('ignore')"
   ]
  },
  {
   "cell_type": "markdown",
   "id": "3423bb2c",
   "metadata": {},
   "source": [
    "#### Get api key"
   ]
  },
  {
   "cell_type": "code",
   "execution_count": 279,
   "id": "8d41c975",
   "metadata": {},
   "outputs": [],
   "source": [
    "openai_api_key = get_openai_api_key()"
   ]
  },
  {
   "cell_type": "markdown",
   "id": "4232526f",
   "metadata": {},
   "source": [
    "## Setup configs"
   ]
  },
  {
   "cell_type": "code",
   "execution_count": 280,
   "id": "4e4905a0",
   "metadata": {},
   "outputs": [],
   "source": [
    "# Define file paths for YAML configurations\n",
    "files = {\n",
    "    'agents': 'config/agents.yaml',\n",
    "    'tasks': 'config/tasks.yaml'\n",
    "}\n",
    "\n",
    "# Load configurations from YAML files\n",
    "configs = {}\n",
    "for config_type, file_path in files.items():\n",
    "    with open(file_path, 'r') as file:\n",
    "        configs[config_type] = yaml.safe_load(file)\n",
    "\n",
    "# Assign loaded configurations to specific variables\n",
    "agents_config = configs['agents']\n",
    "tasks_config = configs['tasks']"
   ]
  },
  {
   "cell_type": "markdown",
   "id": "cab51222",
   "metadata": {},
   "source": [
    "## Pydantic models"
   ]
  },
  {
   "cell_type": "code",
   "execution_count": 281,
   "id": "dc215c02",
   "metadata": {},
   "outputs": [],
   "source": [
    "class EventSlot(BaseModel):\n",
    "    date: str = Field(..., description=\"The date of the event. The format is: DD/MM/YYYY\")\n",
    "    weekday: str = Field(..., description=\"The date's week day.\")\n",
    "    startTime: str = Field(..., description=\"Start time of the slot. The format is: HH:MM\")\n",
    "    endTime: str = Field(..., description=\"End time of the slot. The format is: HH:MM\")\n",
    "    title: str = Field(..., description=\"Short title to summarize the event's essential information.\")\n",
    "\n",
    "class MultipleSlots(BaseModel):\n",
    "    slots: List[EventSlot] = Field(..., description=\"List of event slots\")"
   ]
  },
  {
   "cell_type": "markdown",
   "id": "563623c9",
   "metadata": {},
   "source": [
    "## Tools"
   ]
  },
  {
   "cell_type": "code",
   "execution_count": 282,
   "id": "f168f60a",
   "metadata": {},
   "outputs": [],
   "source": [
    "from datetime import date\n",
    "from typing import Type\n",
    "\n",
    "\n",
    "from datetime import datetime\n",
    "\n",
    "class InputDate(BaseModel):\n",
    "    date: str = Field(..., description=\"The date of the event. The format is: DD/MM/YYYY\")\n",
    "    weekday: str = Field(..., description=\"The date's week day.\")\n",
    "\n",
    "\n",
    "class ValidDateTool(BaseTool):\n",
    "    name: str = \"Valid Date Tool\"\n",
    "    description: str = \"Tool that checks if the date and week day are valid\"\n",
    "    args_schema: Type[BaseModel] = InputDate\n",
    "\n",
    "    def _run(self, date: str, weekday: str):\n",
    "        try:\n",
    "            datetime.strptime(date, \"%d/%m/%Y\")\n",
    "        except ValueError:\n",
    "            return f\"Error: {str(e)}. Please provide a valid date.\"\n",
    "        \n",
    "        try:\n",
    "            date_obj = datetime.strptime(date, \"%d/%m/%Y\")\n",
    "            correct_weekday = date_obj.strftime(\"%A\")  # Full name (e.g., \"Monday\")\n",
    "            correct_weekday.lower().startswith(weekday.lower())\n",
    "            return \"Valid date\"\n",
    "        except ValueError as e:\n",
    "            return f\"Error: {str(e)}. The week day does not corresponds to the date\""
   ]
  },
  {
   "cell_type": "code",
   "execution_count": 283,
   "id": "838dc82f",
   "metadata": {},
   "outputs": [],
   "source": [
    "validDateTool = ValidDateTool()"
   ]
  },
  {
   "cell_type": "markdown",
   "id": "8a3f3c48",
   "metadata": {},
   "source": [
    "## Agents"
   ]
  },
  {
   "cell_type": "code",
   "execution_count": 284,
   "id": "898a5c3b",
   "metadata": {},
   "outputs": [],
   "source": [
    "converter = Agent(\n",
    "    config=agents_config[\"converter\"],\n",
    "    inject_date=True,\n",
    "    date_format=\"%A, %B %d, %Y\",\n",
    "    tools=[validDateTool])"
   ]
  },
  {
   "cell_type": "markdown",
   "id": "5202a437",
   "metadata": {},
   "source": [
    "## Tasks"
   ]
  },
  {
   "cell_type": "code",
   "execution_count": 285,
   "id": "aeff2fad",
   "metadata": {},
   "outputs": [],
   "source": [
    "conversion = Task(\n",
    "    config=tasks_config[\"conversion\"],\n",
    "    agent=converter,\n",
    "    output_pydantic=MultipleSlots\n",
    ")"
   ]
  },
  {
   "cell_type": "markdown",
   "id": "a5d2fe42",
   "metadata": {},
   "source": [
    "## Crew"
   ]
  },
  {
   "cell_type": "code",
   "execution_count": 286,
   "id": "d09060e2",
   "metadata": {},
   "outputs": [],
   "source": [
    "crew = Crew(\n",
    "    agents=[converter],\n",
    "    tasks=[conversion],\n",
    "    verbose=False\n",
    ")"
   ]
  },
  {
   "cell_type": "markdown",
   "id": "3149b247",
   "metadata": {},
   "source": [
    "## Execution"
   ]
  },
  {
   "cell_type": "code",
   "execution_count": 287,
   "id": "4c444cbb",
   "metadata": {},
   "outputs": [],
   "source": [
    "result = crew.kickoff(inputs={\"event\": \"I need to go to the gym at 9am for an hour for the next four mondays\"})"
   ]
  },
  {
   "cell_type": "code",
   "execution_count": 291,
   "id": "772d172d",
   "metadata": {},
   "outputs": [
    {
     "data": {
      "text/plain": [
       "{'slots': [{'date': '02/10/2025',\n",
       "   'weekday': 'Wednesday',\n",
       "   'startTime': '09:00',\n",
       "   'endTime': '10:00',\n",
       "   'title': 'Gym Session'},\n",
       "  {'date': '09/10/2025',\n",
       "   'weekday': 'Wednesday',\n",
       "   'startTime': '09:00',\n",
       "   'endTime': '10:00',\n",
       "   'title': 'Gym Session'},\n",
       "  {'date': '16/10/2025',\n",
       "   'weekday': 'Wednesday',\n",
       "   'startTime': '09:00',\n",
       "   'endTime': '10:00',\n",
       "   'title': 'Gym Session'},\n",
       "  {'date': '23/10/2025',\n",
       "   'weekday': 'Wednesday',\n",
       "   'startTime': '09:00',\n",
       "   'endTime': '10:00',\n",
       "   'title': 'Gym Session'}]}"
      ]
     },
     "execution_count": 291,
     "metadata": {},
     "output_type": "execute_result"
    }
   ],
   "source": [
    "result.pydantic.model_dump()"
   ]
  },
  {
   "cell_type": "markdown",
   "id": "c8f96ea6",
   "metadata": {},
   "source": [
    "## Cost"
   ]
  },
  {
   "cell_type": "code",
   "execution_count": 289,
   "id": "a2228dae",
   "metadata": {},
   "outputs": [
    {
     "name": "stdout",
     "output_type": "stream",
     "text": [
      "Total costs: $0.0006\n"
     ]
    },
    {
     "data": {
      "text/html": [
       "<div>\n",
       "<style scoped>\n",
       "    .dataframe tbody tr th:only-of-type {\n",
       "        vertical-align: middle;\n",
       "    }\n",
       "\n",
       "    .dataframe tbody tr th {\n",
       "        vertical-align: top;\n",
       "    }\n",
       "\n",
       "    .dataframe thead th {\n",
       "        text-align: right;\n",
       "    }\n",
       "</style>\n",
       "<table border=\"1\" class=\"dataframe\">\n",
       "  <thead>\n",
       "    <tr style=\"text-align: right;\">\n",
       "      <th></th>\n",
       "      <th>total_tokens</th>\n",
       "      <th>prompt_tokens</th>\n",
       "      <th>cached_prompt_tokens</th>\n",
       "      <th>completion_tokens</th>\n",
       "      <th>successful_requests</th>\n",
       "    </tr>\n",
       "  </thead>\n",
       "  <tbody>\n",
       "    <tr>\n",
       "      <th>0</th>\n",
       "      <td>4011</td>\n",
       "      <td>3675</td>\n",
       "      <td>0</td>\n",
       "      <td>336</td>\n",
       "      <td>5</td>\n",
       "    </tr>\n",
       "  </tbody>\n",
       "</table>\n",
       "</div>"
      ],
      "text/plain": [
       "   total_tokens  prompt_tokens  cached_prompt_tokens  completion_tokens  \\\n",
       "0          4011           3675                     0                336   \n",
       "\n",
       "   successful_requests  \n",
       "0                    5  "
      ]
     },
     "execution_count": 289,
     "metadata": {},
     "output_type": "execute_result"
    }
   ],
   "source": [
    "import pandas as pd\n",
    "\n",
    "costs = 0.150 * (crew.usage_metrics.prompt_tokens + crew.usage_metrics.completion_tokens) / 1_000_000\n",
    "print(f\"Total costs: ${costs:.4f}\")\n",
    "\n",
    "# Convert UsageMetrics instance to a DataFrame\n",
    "df_usage_metrics = pd.DataFrame([crew.usage_metrics.dict()])\n",
    "df_usage_metrics"
   ]
  }
 ],
 "metadata": {
  "kernelspec": {
   "display_name": "planner_env",
   "language": "python",
   "name": "python3"
  },
  "language_info": {
   "codemirror_mode": {
    "name": "ipython",
    "version": 3
   },
   "file_extension": ".py",
   "mimetype": "text/x-python",
   "name": "python",
   "nbconvert_exporter": "python",
   "pygments_lexer": "ipython3",
   "version": "3.12.2"
  }
 },
 "nbformat": 4,
 "nbformat_minor": 5
}
