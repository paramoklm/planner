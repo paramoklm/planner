{
 "cells": [
  {
   "cell_type": "markdown",
   "id": "28270397",
   "metadata": {},
   "source": [
    "## Import"
   ]
  },
  {
   "cell_type": "code",
   "execution_count": 1,
   "id": "7407da9c",
   "metadata": {},
   "outputs": [],
   "source": [
    "import os\n",
    "import yaml\n",
    "import warnings\n",
    "from typing import List\n",
    "\n",
    "from utils import get_openai_api_key\n",
    "from utils_data import TIMETABLE, add_slot, is_slot_conflict, remove_slot, access_timetable\n",
    "\n",
    "from crewai import Agent, Task, Crew\n",
    "from pydantic import BaseModel, Field\n",
    "from crewai.tools import BaseTool\n",
    "\n",
    "\n",
    "warnings.filterwarnings('ignore')"
   ]
  },
  {
   "cell_type": "markdown",
   "id": "3423bb2c",
   "metadata": {},
   "source": [
    "#### Get api key"
   ]
  },
  {
   "cell_type": "code",
   "execution_count": 2,
   "id": "8d41c975",
   "metadata": {},
   "outputs": [],
   "source": [
    "openai_api_key = get_openai_api_key()"
   ]
  },
  {
   "cell_type": "markdown",
   "id": "4232526f",
   "metadata": {},
   "source": [
    "## Setup configs"
   ]
  },
  {
   "cell_type": "code",
   "execution_count": 3,
   "id": "4e4905a0",
   "metadata": {},
   "outputs": [],
   "source": [
    "# Define file paths for YAML configurations\n",
    "files = {\n",
    "    'agents': 'config/agents.yaml',\n",
    "    'tasks': 'config/tasks.yaml'\n",
    "}\n",
    "\n",
    "# Load configurations from YAML files\n",
    "configs = {}\n",
    "for config_type, file_path in files.items():\n",
    "    with open(file_path, 'r') as file:\n",
    "        configs[config_type] = yaml.safe_load(file)\n",
    "\n",
    "# Assign loaded configurations to specific variables\n",
    "agents_config = configs['agents']\n",
    "tasks_config = configs['tasks']"
   ]
  },
  {
   "cell_type": "markdown",
   "id": "cab51222",
   "metadata": {},
   "source": [
    "## Pydantic models"
   ]
  },
  {
   "cell_type": "code",
   "execution_count": 4,
   "id": "dc215c02",
   "metadata": {},
   "outputs": [],
   "source": [
    "class EventSlot(BaseModel):\n",
    "    date: str = Field(..., description=\"The date of the event. The format is: DD/MM/YYYY\")\n",
    "    weekday: str = Field(..., description=\"The date's week day.\")\n",
    "    startTime: str = Field(..., description=\"Start time of the slot. The format is: HH:MM\")\n",
    "    endTime: str = Field(..., description=\"End time of the slot. The format is: HH:MM\")\n",
    "    title: str = Field(..., description=\"Short title to summarize the event's essential information.\")\n",
    "\n",
    "class MultipleSlots(BaseModel):\n",
    "    slots: List[EventSlot] = Field(..., description=\"List of event slots\")"
   ]
  },
  {
   "cell_type": "markdown",
   "id": "563623c9",
   "metadata": {},
   "source": [
    "## Tools"
   ]
  },
  {
   "cell_type": "code",
   "execution_count": 5,
   "id": "f168f60a",
   "metadata": {},
   "outputs": [],
   "source": [
    "from datetime import date\n",
    "from typing import Type\n",
    "\n",
    "\n",
    "from datetime import datetime\n",
    "\n",
    "class InputDate(BaseModel):\n",
    "    date: str = Field(..., description=\"The date of the event. The format is: DD/MM/YYYY\")\n",
    "    weekday: str = Field(..., description=\"The date's week day.\")\n",
    "\n",
    "class ValidDateTool(BaseTool):\n",
    "    name: str = \"Valid Date Tool\"\n",
    "    description: str = \"Tool that checks if the date and week day are valid\"\n",
    "    args_schema: Type[BaseModel] = InputDate\n",
    "\n",
    "    def _run(self, date: str, weekday: str):\n",
    "        try:\n",
    "            datetime.strptime(date, \"%d/%m/%Y\")\n",
    "        except ValueError:\n",
    "            return f\"Error: {str(e)}. Please provide a valid date.\"\n",
    "        \n",
    "        try:\n",
    "            date_obj = datetime.strptime(date, \"%d/%m/%Y\")\n",
    "            correct_weekday = date_obj.strftime(\"%A\")  # Full name (e.g., \"Monday\")\n",
    "            correct_weekday.lower().startswith(weekday.lower())\n",
    "            return \"Valid date\"\n",
    "        except ValueError as e:\n",
    "            return f\"Error: {str(e)}. The week day does not corresponds to the date\"\n",
    "        \n",
    "class AddSlot(BaseTool):\n",
    "    name: str = \"Add Slot Tool\"\n",
    "    description: str = \"Tool that adds slots to the timetable\"\n",
    "    args_schema: Type[BaseModel] = MultipleSlots\n",
    "\n",
    "    def _run(self, slots: MultipleSlots):\n",
    "        for eventSlot in slots:\n",
    "            res = add_slot(eventSlot)\n",
    "            if res != \"SUCCESS\":\n",
    "                return res\n",
    "        return \"SUCCESS\"\n",
    "    \n",
    "class RemoveSlot(BaseTool):\n",
    "    name: str = \"Remove Stol Tool\"\n",
    "    description: str = \"Tool that removes slots to the timetable\"\n",
    "    args_schema: Type[BaseModel] = MultipleSlots\n",
    "\n",
    "    def _run(self, slots: MultipleSlots):\n",
    "        for eventSlot in slots:\n",
    "            res = remove_slot(eventSlot)\n",
    "            if res != \"SUCCESS\":\n",
    "                return res\n",
    "        return \"SUCCESS\"\n",
    "    \n",
    "class AccessTimetable(BaseTool):\n",
    "    name: str = \"Access Timetable\"\n",
    "    description: str = \"Tool that enables access to the stringified timetable\"\n",
    "    \n",
    "    def _run(self):\n",
    "        return access_timetable()\n",
    "            \n",
    "    \n",
    "class CheckConflict(BaseTool):\n",
    "    name: str = \"Check Conflict Tool\"\n",
    "    description: str = \"Tool that checks if there is a conflict between an event and an already setup event in the timetable. \" \\\n",
    "    \"Returns the list of events where there is a conflict with already setup events in the timetable.\"\n",
    "    args_schema: Type[BaseModel] = MultipleSlots\n",
    "\n",
    "    def _run(self, slots: MultipleSlots):\n",
    "        conflicts = []\n",
    "        for slot in slots:\n",
    "            res = is_slot_conflict(slot)\n",
    "            if res == \"There is a conflict\":\n",
    "                conflicts.append(slot)\n",
    "        return conflicts\n"
   ]
  },
  {
   "cell_type": "markdown",
   "id": "8a3f3c48",
   "metadata": {},
   "source": [
    "## Agents"
   ]
  },
  {
   "cell_type": "code",
   "execution_count": 6,
   "id": "898a5c3b",
   "metadata": {},
   "outputs": [],
   "source": [
    "converter = Agent(\n",
    "    config=agents_config[\"converter\"],\n",
    "    inject_date=True,\n",
    "    date_format=\"%A, %B %d, %Y\",\n",
    "    tools=[ValidDateTool()])\n",
    "\n",
    "assistant = Agent(\n",
    "    config=agents_config[\"assistant\"],\n",
    "    tools=[AddSlot(), CheckConflict(), RemoveSlot(), AccessTimetable()]\n",
    ")"
   ]
  },
  {
   "cell_type": "markdown",
   "id": "5202a437",
   "metadata": {},
   "source": [
    "## Tasks"
   ]
  },
  {
   "cell_type": "code",
   "execution_count": 7,
   "id": "aeff2fad",
   "metadata": {},
   "outputs": [],
   "source": [
    "conversion = Task(\n",
    "    config=tasks_config[\"conversion\"],\n",
    "    agent=converter,\n",
    "    output_pydantic=MultipleSlots\n",
    ")\n",
    "\n",
    "manage_timetable = Task(\n",
    "    config=tasks_config[\"manage_timetable\"],\n",
    "    agent=assistant\n",
    ")"
   ]
  },
  {
   "cell_type": "markdown",
   "id": "a5d2fe42",
   "metadata": {},
   "source": [
    "## Crew"
   ]
  },
  {
   "cell_type": "code",
   "execution_count": null,
   "id": "d09060e2",
   "metadata": {},
   "outputs": [],
   "source": [
    "crew = Crew(\n",
    "    agents=[converter, assistant],\n",
    "    tasks=[conversion, manage_timetable],\n",
    "    verbose=True\n",
    ")"
   ]
  },
  {
   "cell_type": "markdown",
   "id": "3149b247",
   "metadata": {},
   "source": [
    "## Execution"
   ]
  },
  {
   "cell_type": "code",
   "execution_count": 9,
   "id": "4c444cbb",
   "metadata": {},
   "outputs": [],
   "source": [
    "result = crew.kickoff(inputs={\"event\": \"I have a meeting with my boss for the next two mondays at 5pm for an hour\"})"
   ]
  },
  {
   "cell_type": "code",
   "execution_count": 10,
   "id": "2b2a3123",
   "metadata": {},
   "outputs": [
    {
     "data": {
      "text/plain": [
       "{}"
      ]
     },
     "execution_count": 10,
     "metadata": {},
     "output_type": "execute_result"
    }
   ],
   "source": [
    "TIMETABLE"
   ]
  },
  {
   "cell_type": "code",
   "execution_count": 11,
   "id": "3a5916cd",
   "metadata": {},
   "outputs": [
    {
     "data": {
      "text/plain": [
       "CrewOutput(raw='The slot for the meeting with my boss is already scheduled for the next two Mondays, October 6th, 2025, and October 13th, 2025, from 5 PM to 6 PM.', pydantic=None, json_dict=None, tasks_output=[TaskOutput(description='Gather the most crucial information about the event: I have a meeting with my boss for the next two mondays at 5pm for an hour. You should gather the following if there if:\\n    1. Date in format DD/MM/YYYY\\n    2. Start time in format HH:MM\\n    3. End time in format HH:MM\\n    4. Event title, generate if not explicit\\nMake sure you are sending a valid date.\\n\\n\\nCurrent Date: Friday, September 26, 2025', name='Gather the most crucial information about the event: I have a meeting with my boss for the next two mondays at 5pm for an hour. You should gather the following if there if:\\n    1. Date in format DD/MM/YYYY\\n    2. Start time in format HH:MM\\n    3. End time in format HH:MM\\n    4. Event title, generate if not explicit\\nMake sure you are sending a valid date.\\n\\n\\nCurrent Date: Friday, September 26, 2025', expected_output='A comprehensive list of all the key details of the event.\\n', summary='Gather the most crucial information about the event: I have...', raw='{\\n  \"slots\": [{\\n    \"date\": \"06/10/2025\",\\n    \"weekday\": \"Monday\",\\n    \"startTime\": \"17:00\",\\n    \"endTime\": \"18:00\",\\n    \"title\": \"Meeting with Boss\"\\n  },\\n  {\\n    \"date\": \"13/10/2025\",\\n    \"weekday\": \"Monday\",\\n    \"startTime\": \"17:00\",\\n    \"endTime\": \"18:00\",\\n    \"title\": \"Meeting with Boss\"\\n  }]\\n}', pydantic=MultipleSlots(slots=[EventSlot(date='06/10/2025', weekday='Monday', startTime='17:00', endTime='18:00', title='Meeting with Boss'), EventSlot(date='13/10/2025', weekday='Monday', startTime='17:00', endTime='18:00', title='Meeting with Boss')]), json_dict=None, agent='Event summarizer\\n', output_format=<OutputFormat.PYDANTIC: 'pydantic'>), TaskOutput(description='Manage a timetable at your disposition. You can access it through the tools. Only you can access it. You will have to handle this new event: I have a meeting with my boss for the next two mondays at 5pm for an hour Either to add or remove it from the timetable. Do not assume anything.\\n', name='Manage a timetable at your disposition. You can access it through the tools. Only you can access it. You will have to handle this new event: I have a meeting with my boss for the next two mondays at 5pm for an hour Either to add or remove it from the timetable. Do not assume anything.\\n', expected_output='A short answer summarizing what slot was added and when.', summary='Manage a timetable at your disposition. You can access it...', raw='The slot for the meeting with my boss is already scheduled for the next two Mondays, October 6th, 2025, and October 13th, 2025, from 5 PM to 6 PM.', pydantic=None, json_dict=None, agent='Timetable assistant\\n', output_format=<OutputFormat.RAW: 'raw'>)], token_usage=UsageMetrics(total_tokens=6712, prompt_tokens=6069, cached_prompt_tokens=2432, completion_tokens=643, successful_requests=6))"
      ]
     },
     "execution_count": 11,
     "metadata": {},
     "output_type": "execute_result"
    }
   ],
   "source": [
    "result"
   ]
  },
  {
   "cell_type": "code",
   "execution_count": 12,
   "id": "d89c7208",
   "metadata": {},
   "outputs": [],
   "source": [
    "# result.pydantic.model_dump()[\"slots\"]"
   ]
  },
  {
   "cell_type": "code",
   "execution_count": 13,
   "id": "772d172d",
   "metadata": {},
   "outputs": [
    {
     "ename": "AttributeError",
     "evalue": "'NoneType' object has no attribute 'model_dump'",
     "output_type": "error",
     "traceback": [
      "\u001b[31m---------------------------------------------------------------------------\u001b[39m",
      "\u001b[31mAttributeError\u001b[39m                            Traceback (most recent call last)",
      "\u001b[36mCell\u001b[39m\u001b[36m \u001b[39m\u001b[32mIn[13]\u001b[39m\u001b[32m, line 1\u001b[39m\n\u001b[32m----> \u001b[39m\u001b[32m1\u001b[39m \u001b[43mresult\u001b[49m\u001b[43m.\u001b[49m\u001b[43mpydantic\u001b[49m\u001b[43m.\u001b[49m\u001b[43mmodel_dump\u001b[49m()\n",
      "\u001b[31mAttributeError\u001b[39m: 'NoneType' object has no attribute 'model_dump'"
     ]
    }
   ],
   "source": [
    "result.pydantic.model_dump()"
   ]
  },
  {
   "cell_type": "markdown",
   "id": "c8f96ea6",
   "metadata": {},
   "source": [
    "## Cost"
   ]
  },
  {
   "cell_type": "code",
   "execution_count": null,
   "id": "a2228dae",
   "metadata": {},
   "outputs": [
    {
     "name": "stdout",
     "output_type": "stream",
     "text": [
      "Total costs: $0.0009\n"
     ]
    },
    {
     "data": {
      "text/html": [
       "<div>\n",
       "<style scoped>\n",
       "    .dataframe tbody tr th:only-of-type {\n",
       "        vertical-align: middle;\n",
       "    }\n",
       "\n",
       "    .dataframe tbody tr th {\n",
       "        vertical-align: top;\n",
       "    }\n",
       "\n",
       "    .dataframe thead th {\n",
       "        text-align: right;\n",
       "    }\n",
       "</style>\n",
       "<table border=\"1\" class=\"dataframe\">\n",
       "  <thead>\n",
       "    <tr style=\"text-align: right;\">\n",
       "      <th></th>\n",
       "      <th>total_tokens</th>\n",
       "      <th>prompt_tokens</th>\n",
       "      <th>cached_prompt_tokens</th>\n",
       "      <th>completion_tokens</th>\n",
       "      <th>successful_requests</th>\n",
       "    </tr>\n",
       "  </thead>\n",
       "  <tbody>\n",
       "    <tr>\n",
       "      <th>0</th>\n",
       "      <td>6131</td>\n",
       "      <td>5539</td>\n",
       "      <td>0</td>\n",
       "      <td>592</td>\n",
       "      <td>8</td>\n",
       "    </tr>\n",
       "  </tbody>\n",
       "</table>\n",
       "</div>"
      ],
      "text/plain": [
       "   total_tokens  prompt_tokens  cached_prompt_tokens  completion_tokens  \\\n",
       "0          6131           5539                     0                592   \n",
       "\n",
       "   successful_requests  \n",
       "0                    8  "
      ]
     },
     "execution_count": 16,
     "metadata": {},
     "output_type": "execute_result"
    }
   ],
   "source": [
    "import pandas as pd\n",
    "\n",
    "costs = 0.150 * (crew.usage_metrics.prompt_tokens + crew.usage_metrics.completion_tokens) / 1_000_000\n",
    "print(f\"Total costs: ${costs:.4f}\")\n",
    "\n",
    "# Convert UsageMetrics instance to a DataFrame\n",
    "df_usage_metrics = pd.DataFrame([crew.usage_metrics.dict()])\n",
    "df_usage_metrics"
   ]
  }
 ],
 "metadata": {
  "kernelspec": {
   "display_name": "planner_env",
   "language": "python",
   "name": "python3"
  },
  "language_info": {
   "codemirror_mode": {
    "name": "ipython",
    "version": 3
   },
   "file_extension": ".py",
   "mimetype": "text/x-python",
   "name": "python",
   "nbconvert_exporter": "python",
   "pygments_lexer": "ipython3",
   "version": "3.12.2"
  }
 },
 "nbformat": 4,
 "nbformat_minor": 5
}
